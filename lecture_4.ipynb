{
 "cells": [
  {
   "cell_type": "code",
   "execution_count": 1,
   "metadata": {
    "scrolled": true
   },
   "outputs": [
    {
     "name": "stdout",
     "output_type": "stream",
     "text": [
      "3.6.0 |Anaconda custom (64-bit)| (default, Dec 23 2016, 11:57:41) [MSC v.1900 64 bit (AMD64)]\n"
     ]
    }
   ],
   "source": [
    "import sys\n",
    "print(sys.version)"
   ]
  },
  {
   "cell_type": "code",
   "execution_count": 2,
   "metadata": {},
   "outputs": [
    {
     "data": {
      "text/plain": [
       "uname_result(system='Windows', node='PP-PC', release='10', version='10.0.15063', machine='AMD64', processor='Intel64 Family 6 Model 63 Stepping 2, GenuineIntel')"
      ]
     },
     "execution_count": 2,
     "metadata": {},
     "output_type": "execute_result"
    }
   ],
   "source": [
    "# посмотрим информацию об операционной системе, на которой мы работаем.\n",
    "import platform\n",
    "platform.uname()"
   ]
  },
  {
   "cell_type": "markdown",
   "metadata": {},
   "source": [
    "## Работа с директориями"
   ]
  },
  {
   "cell_type": "code",
   "execution_count": 23,
   "metadata": {
    "collapsed": true
   },
   "outputs": [],
   "source": [
    "import os\n",
    "\n",
    "os.mkdir(\"/tmp/park-python\")"
   ]
  },
  {
   "cell_type": "code",
   "execution_count": 24,
   "metadata": {
    "collapsed": true
   },
   "outputs": [],
   "source": [
    "try:\n",
    "    os.rmdir(\"/tmp/park-python\")\n",
    "except IOError as err:\n",
    "    print(err)"
   ]
  },
  {
   "cell_type": "code",
   "execution_count": 5,
   "metadata": {
    "collapsed": true
   },
   "outputs": [],
   "source": [
    "path = \"/tmp/park-python/lectures/04\"\n",
    "if not os.path.exists(path):\n",
    "    os.makedirs(path)"
   ]
  },
  {
   "cell_type": "code",
   "execution_count": 6,
   "metadata": {},
   "outputs": [
    {
     "ename": "OSError",
     "evalue": "[Errno 66] Directory not empty: '/tmp/park-python'",
     "output_type": "error",
     "traceback": [
      "\u001b[0;31m---------------------------------------------------------------------------\u001b[0m",
      "\u001b[0;31mOSError\u001b[0m                                   Traceback (most recent call last)",
      "\u001b[0;32m<ipython-input-6-551c5c4b1cd6>\u001b[0m in \u001b[0;36m<module>\u001b[0;34m()\u001b[0m\n\u001b[0;32m----> 1\u001b[0;31m \u001b[0mos\u001b[0m\u001b[0;34m.\u001b[0m\u001b[0mrmdir\u001b[0m\u001b[0;34m(\u001b[0m\u001b[0;34m\"/tmp/park-python\"\u001b[0m\u001b[0;34m)\u001b[0m\u001b[0;34m\u001b[0m\u001b[0m\n\u001b[0m",
      "\u001b[0;31mOSError\u001b[0m: [Errno 66] Directory not empty: '/tmp/park-python'"
     ]
    }
   ],
   "source": [
    "os.rmdir(\"/tmp/park-python\")"
   ]
  },
  {
   "cell_type": "code",
   "execution_count": 7,
   "metadata": {
    "collapsed": true
   },
   "outputs": [],
   "source": [
    "import shutil\n",
    "shutil.rmtree(\"/tmp/park-python\")"
   ]
  },
  {
   "cell_type": "code",
   "execution_count": 8,
   "metadata": {
    "scrolled": true
   },
   "outputs": [
    {
     "name": "stdout",
     "output_type": "stream",
     "text": [
      "[('.',\n",
      "  ['.ipynb_checkpoints', 'img'],\n",
      "  ['debugging.py',\n",
      "   'notebook.ipynb',\n",
      "   'README.md',\n",
      "   'server',\n",
      "   'server.go',\n",
      "   'slides.pdf']),\n",
      " ('./.ipynb_checkpoints', [], []),\n",
      " ('./img',\n",
      "  [],\n",
      "  ['g1.png',\n",
      "   'g2.png',\n",
      "   'g3.png',\n",
      "   'g4.png',\n",
      "   'g5.png',\n",
      "   'loop.jpg',\n",
      "   'threads.jpg'])]\n"
     ]
    }
   ],
   "source": [
    "import pprint\n",
    "pprint.pprint(list(os.walk(os.curdir)))"
   ]
  },
  {
   "cell_type": "markdown",
   "metadata": {},
   "source": [
    "## Работа с файлами"
   ]
  },
  {
   "cell_type": "code",
   "execution_count": 9,
   "metadata": {
    "collapsed": true
   },
   "outputs": [],
   "source": [
    "# открываем дескриптор файла для записи\n",
    "f = open(\"/tmp/example.txt\", \"w\")\n",
    "\n",
    "# записываем содержимое\n",
    "f.write(\"Технопарк\\n\")\n",
    "\n",
    "# обязательно закрываем\n",
    "f.close()"
   ]
  },
  {
   "cell_type": "code",
   "execution_count": 10,
   "metadata": {},
   "outputs": [
    {
     "name": "stdout",
     "output_type": "stream",
     "text": [
      "Технопарк\n",
      "\n"
     ]
    }
   ],
   "source": [
    "# открываем дескриптор файла для чтения\n",
    "f = open(\"/tmp/example.txt\", \"r\")\n",
    "\n",
    "# читаем содержимое полностью.\n",
    "data = f.read()\n",
    "\n",
    "# обязательно закрываем!\n",
    "f.close()\n",
    "\n",
    "print(data)"
   ]
  },
  {
   "cell_type": "markdown",
   "metadata": {},
   "source": [
    "* \"r\" – открытие на чтение (является значением по умолчанию).\n",
    "* \"w\" – открытие на запись, содержимое файла удаляется, если файла не существует, создается новый.\n",
    "* \"x\" – открытие на запись, если файла не существует, иначе исключение.\n",
    "* \"a\" – открытие на дозапись, информация добавляется в конец файла.\n",
    "* \"b\" – открытие в двоичном режиме.\n",
    "* \"t\" – открытие в текстовом режиме (является значением по умолчанию).\n",
    "* \"+\" – открытие на чтение и запись"
   ]
  },
  {
   "cell_type": "code",
   "execution_count": 11,
   "metadata": {
    "collapsed": true
   },
   "outputs": [],
   "source": [
    "# используя context-manager\n",
    "with open(\"/tmp/example.txt\", \"a\") as f:\n",
    "    f.write(\"МГТУ\\n\")"
   ]
  },
  {
   "cell_type": "code",
   "execution_count": 12,
   "metadata": {},
   "outputs": [
    {
     "name": "stdout",
     "output_type": "stream",
     "text": [
      "['Технопарк\\n', 'МГТУ\\n']\n"
     ]
    }
   ],
   "source": [
    "with open(\"/tmp/example.txt\", \"r\") as f:\n",
    "    print(f.readlines())"
   ]
  },
  {
   "cell_type": "code",
   "execution_count": 13,
   "metadata": {
    "scrolled": false
   },
   "outputs": [
    {
     "name": "stdout",
     "output_type": "stream",
     "text": [
      "'Технопарк\\n'\n",
      "'МГТУ\\n'\n"
     ]
    }
   ],
   "source": [
    "# читаем файл по строке, не загружая его полность в память\n",
    "with open(\"/tmp/example.txt\", \"r\") as f:\n",
    "    for line in f:\n",
    "        print(repr(line))"
   ]
  },
  {
   "cell_type": "code",
   "execution_count": 25,
   "metadata": {
    "scrolled": true
   },
   "outputs": [
    {
     "name": "stdout",
     "output_type": "stream",
     "text": [
      "786d2e2d9106e7d560679819742f259fd8a8de03\n",
      "786d2e2d9106e7d560679819742f259fd8a8de03\n",
      "f60331c9c6cca4d4c5947542202a24210090dfcf\n"
     ]
    }
   ],
   "source": [
    "# Чтобы проверить целостность переданного по сети файла\n",
    "import hashlib\n",
    "\n",
    "def hash_file(filename):\n",
    "    h = hashlib.sha1()\n",
    "\n",
    "    # открываем файл в бинарном виде.\n",
    "    with open(filename,'rb') as file:\n",
    "        chunk = 0\n",
    "        while chunk != b'':\n",
    "            # читаем кусочками по 1024 байта\n",
    "            chunk = file.read(1024)\n",
    "            h.update(chunk)\n",
    "\n",
    "    # hex-представление полученной суммы.\n",
    "    return h.hexdigest()\n",
    "\n",
    "print(hash_file(\"/tmp/example.txt\"))\n",
    "print(hash_file(\"/tmp/example.txt\"))\n",
    "\n",
    "with open(\"/tmp/example.txt\", \"a\") as f:\n",
    "    f.write(\"1\")\n",
    "\n",
    "print(hash_file(\"/tmp/example.txt\"))"
   ]
  },
  {
   "cell_type": "markdown",
   "metadata": {},
   "source": [
    "## stdin, stdout, stderr"
   ]
  },
  {
   "cell_type": "markdown",
   "metadata": {},
   "source": [
    "По умолчанию Unix-оболочки связывают файловый дескриптор 0 с потоком стандартного ввода процесса (**stdin**), файловый дескриптор 1 — с потоком стандартного вывода (**stdout**), и файловый дескриптор 2 — с потоком диагностики (**stderr**, куда обычно выводятся сообщения об ошибках)."
   ]
  },
  {
   "cell_type": "code",
   "execution_count": 26,
   "metadata": {},
   "outputs": [
    {
     "name": "stdout",
     "output_type": "stream",
     "text": [
      "<_io.TextIOWrapper name='<stdin>' mode='r' encoding='UTF-8'>\n",
      "<ipykernel.iostream.OutStream object at 0x10b382748>\n",
      "<ipykernel.iostream.OutStream object at 0x10b382390>\n"
     ]
    }
   ],
   "source": [
    "import sys\n",
    "print(sys.stdin)\n",
    "print(sys.stdout)\n",
    "print(sys.stderr)"
   ]
  },
  {
   "cell_type": "code",
   "execution_count": 27,
   "metadata": {},
   "outputs": [
    {
     "name": "stdout",
     "output_type": "stream",
     "text": [
      "0\n"
     ]
    }
   ],
   "source": [
    "print(sys.stdin.fileno())"
   ]
  },
  {
   "cell_type": "code",
   "execution_count": 28,
   "metadata": {},
   "outputs": [
    {
     "ename": "UnsupportedOperation",
     "evalue": "IOStream has no fileno.",
     "output_type": "error",
     "traceback": [
      "\u001b[0;31m---------------------------------------------------------------------------\u001b[0m",
      "\u001b[0;31mUnsupportedOperation\u001b[0m                      Traceback (most recent call last)",
      "\u001b[0;32m<ipython-input-28-ef51c9c03543>\u001b[0m in \u001b[0;36m<module>\u001b[0;34m()\u001b[0m\n\u001b[0;32m----> 1\u001b[0;31m \u001b[0mprint\u001b[0m\u001b[0;34m(\u001b[0m\u001b[0msys\u001b[0m\u001b[0;34m.\u001b[0m\u001b[0mstdout\u001b[0m\u001b[0;34m.\u001b[0m\u001b[0mfileno\u001b[0m\u001b[0;34m(\u001b[0m\u001b[0;34m)\u001b[0m\u001b[0;34m)\u001b[0m\u001b[0;34m\u001b[0m\u001b[0m\n\u001b[0m",
      "\u001b[0;32m/Users/fz/projects/course/env/lib/python3.6/site-packages/ipykernel/iostream.py\u001b[0m in \u001b[0;36mfileno\u001b[0;34m(self)\u001b[0m\n\u001b[1;32m    357\u001b[0m \u001b[0;34m\u001b[0m\u001b[0m\n\u001b[1;32m    358\u001b[0m     \u001b[0;32mdef\u001b[0m \u001b[0mfileno\u001b[0m\u001b[0;34m(\u001b[0m\u001b[0mself\u001b[0m\u001b[0;34m)\u001b[0m\u001b[0;34m:\u001b[0m\u001b[0;34m\u001b[0m\u001b[0m\n\u001b[0;32m--> 359\u001b[0;31m         \u001b[0;32mraise\u001b[0m \u001b[0mUnsupportedOperation\u001b[0m\u001b[0;34m(\u001b[0m\u001b[0;34m\"IOStream has no fileno.\"\u001b[0m\u001b[0;34m)\u001b[0m\u001b[0;34m\u001b[0m\u001b[0m\n\u001b[0m\u001b[1;32m    360\u001b[0m \u001b[0;34m\u001b[0m\u001b[0m\n\u001b[1;32m    361\u001b[0m     \u001b[0;32mdef\u001b[0m \u001b[0mwrite\u001b[0m\u001b[0;34m(\u001b[0m\u001b[0mself\u001b[0m\u001b[0;34m,\u001b[0m \u001b[0mstring\u001b[0m\u001b[0;34m)\u001b[0m\u001b[0;34m:\u001b[0m\u001b[0;34m\u001b[0m\u001b[0m\n",
      "\u001b[0;31mUnsupportedOperation\u001b[0m: IOStream has no fileno."
     ]
    }
   ],
   "source": [
    "print(sys.stdout.fileno())"
   ]
  },
  {
   "cell_type": "markdown",
   "metadata": {},
   "source": [
    "Так как дескрипторы stdout и stderr переопределены в Jupyter notebook. Давайте посмотрим куда они ведут:"
   ]
  },
  {
   "cell_type": "code",
   "execution_count": 29,
   "metadata": {},
   "outputs": [
    {
     "name": "stdout",
     "output_type": "stream",
     "text": [
      "where am I"
     ]
    }
   ],
   "source": [
    "sys.stdout.write(\"where am I\")"
   ]
  },
  {
   "cell_type": "markdown",
   "metadata": {},
   "source": [
    "А ведут они как раз в этот ноутбук:)"
   ]
  },
  {
   "cell_type": "markdown",
   "metadata": {},
   "source": [
    "# Отладка"
   ]
  },
  {
   "cell_type": "markdown",
   "metadata": {},
   "source": [
    "Показываем на примере файла `debugging.py`"
   ]
  },
  {
   "cell_type": "markdown",
   "metadata": {
    "collapsed": true
   },
   "source": [
    "Полезные библиотеки для отладки (debugging) - https://github.com/vinta/awesome-python#debugging-tools"
   ]
  },
  {
   "cell_type": "markdown",
   "metadata": {},
   "source": [
    "# Тестирование"
   ]
  },
  {
   "cell_type": "markdown",
   "metadata": {},
   "source": [
    "**Зачем?**"
   ]
  },
  {
   "cell_type": "code",
   "execution_count": 30,
   "metadata": {
    "collapsed": true
   },
   "outputs": [],
   "source": [
    "def get_max_length_word(sentence):\n",
    "    longest_word = None\n",
    "    words = sentence.split()\n",
    "    for word in words:\n",
    "        if not longest_word or len(word) > len(longest_word):\n",
    "            longest_word = word\n",
    "    return longest_word"
   ]
  },
  {
   "cell_type": "markdown",
   "metadata": {},
   "source": [
    "Что может пойти не так? Да все что угодно:\n",
    "\n",
    "* SyntaxError\n",
    "* Ошибка в логике\n",
    "* Обратная несовместимость новой версии используемой библиотеки\n",
    "* ...\n",
    "\n",
    "Через полгода после запуска приложения без тестов изменения в код большого приложения вносить очень страшно!\n",
    "\n",
    "Некоторые даже используют TDD - Test-Driven Development."
   ]
  },
  {
   "cell_type": "markdown",
   "metadata": {},
   "source": [
    "## unittest"
   ]
  },
  {
   "cell_type": "code",
   "execution_count": 31,
   "metadata": {
    "scrolled": true
   },
   "outputs": [
    {
     "name": "stderr",
     "output_type": "stream",
     "text": [
      "F\n",
      "======================================================================\n",
      "FAIL: test_sentences (__main__.LongestWordTestCase)\n",
      "----------------------------------------------------------------------\n",
      "Traceback (most recent call last):\n",
      "  File \"<ipython-input-31-3662bd66bec4>\", line 11, in test_sentences\n",
      "    self.assertEqual(get_max_length_word(sentence), correct_word)\n",
      "AssertionError: 'complicated.' != 'complicated'\n",
      "- complicated.\n",
      "?            -\n",
      "+ complicated\n",
      "\n",
      "\n",
      "----------------------------------------------------------------------\n",
      "Ran 1 test in 0.001s\n",
      "\n",
      "FAILED (failures=1)\n"
     ]
    },
    {
     "data": {
      "text/plain": [
       "<unittest.runner.TextTestResult run=1 errors=0 failures=1>"
      ]
     },
     "execution_count": 31,
     "metadata": {},
     "output_type": "execute_result"
    }
   ],
   "source": [
    "import unittest\n",
    "\n",
    "class LongestWordTestCase(unittest.TestCase):\n",
    "    \n",
    "    def test_sentences(self):\n",
    "        sentences = [\n",
    "            [\"Beautiful is better than ugly.\", \"Beautiful\"],\n",
    "            [\"Complex is better than complicated.\", \"complicated\"]\n",
    "        ]\n",
    "        for sentence, correct_word in sentences:\n",
    "            self.assertEqual(get_max_length_word(sentence), correct_word)\n",
    "\n",
    "# Обычно в реальных проектах использует механизм автоматического нахождения тестов (discover).\n",
    "suite = unittest.defaultTestLoader.loadTestsFromTestCase(LongestWordTestCase)\n",
    "unittest.TextTestRunner().run(suite)"
   ]
  },
  {
   "cell_type": "markdown",
   "metadata": {},
   "source": [
    "<table border=\"1\" class=\"docutils\" align=\"left\">\n",
    "<colgroup>\n",
    "<col width=\"48%\">\n",
    "<col width=\"34%\">\n",
    "<col width=\"18%\">\n",
    "</colgroup>\n",
    "<thead valign=\"bottom\">\n",
    "<tr class=\"row-odd\"><th class=\"head\">Method</th>\n",
    "<th class=\"head\">Checks that</th>\n",
    "</tr>\n",
    "</thead>\n",
    "<tbody valign=\"top\">\n",
    "<tr class=\"row-even\"><td>assertEqual(a, b)</td>\n",
    "<td><code class=\"docutils literal\"><span class=\"pre\">a</span> <span class=\"pre\">==</span> <span class=\"pre\">b</span></code></td>\n",
    "</tr>\n",
    "<tr class=\"row-odd\"><td>assertNotEqual(a, b)</td>\n",
    "<td><code class=\"docutils literal\"><span class=\"pre\">a</span> <span class=\"pre\">!=</span> <span class=\"pre\">b</span></code></td>\n",
    "</tr>\n",
    "<tr class=\"row-even\"><td>assertTrue(x)</td>\n",
    "<td><code class=\"docutils literal\"><span class=\"pre\">bool(x)</span> <span class=\"pre\">is</span> <span class=\"pre\">True</span></code></td>\n",
    "</tr>\n",
    "<tr class=\"row-odd\"><td>assertFalse(x)</td>\n",
    "<td><code class=\"docutils literal\"><span class=\"pre\">bool(x)</span> <span class=\"pre\">is</span> <span class=\"pre\">False</span></code></td>\n",
    "</tr>\n",
    "<tr class=\"row-even\"><td>assertIsNone(x)</td>\n",
    "<td><code class=\"docutils literal\"><span class=\"pre\">x</span> <span class=\"pre\">is</span> <span class=\"pre\">None</span></code></td>\n",
    "</tr>\n",
    "<tr class=\"row-odd\"><td>assertIsNotNone(x)</td>\n",
    "<td><code class=\"docutils literal\"><span class=\"pre\">x</span> <span class=\"pre\">is</span> <span class=\"pre\">not</span> <span class=\"pre\">None</span></code></td>\n",
    "</tr>\n",
    "<tr class=\"row-even\"><td>assertIsInstance(a, b)</td>\n",
    "<td><code class=\"docutils literal\"><span class=\"pre\">isinstance(a,</span> <span class=\"pre\">b)</span></code></td>\n",
    "</tr>\n",
    "<tr class=\"row-even\"><td colspan=\"2\">И другие... https://docs.python.org/3.5/library/unittest.html</td>\n",
    "</tr>\n",
    "</tbody>\n",
    "</table>"
   ]
  },
  {
   "cell_type": "markdown",
   "metadata": {},
   "source": [
    "Протестируем class."
   ]
  },
  {
   "cell_type": "code",
   "execution_count": 33,
   "metadata": {},
   "outputs": [
    {
     "name": "stdout",
     "output_type": "stream",
     "text": [
      "We are alive! But all items lost!\n"
     ]
    }
   ],
   "source": [
    "class BoomException(Exception):\n",
    "    pass\n",
    "\n",
    "\n",
    "class Item:\n",
    "\n",
    "    def __init__(self, name, reacts_with=None):\n",
    "        self.name = name\n",
    "        self.reacts_with = reacts_with or []\n",
    "\n",
    "    def __repr__(self):\n",
    "        return self.name\n",
    "\n",
    "\n",
    "class Alchemy:\n",
    "\n",
    "    def __init__(self):\n",
    "        self.items = []\n",
    "\n",
    "    def add(self, item):\n",
    "        for existing_item in self.items:\n",
    "            if item.name not in existing_item.reacts_with:\n",
    "                continue\n",
    "            self.items = []\n",
    "            raise BoomException(\"{0} + {1}\".format(existing_item.name, item.name))\n",
    "        self.items.append(item)\n",
    "\n",
    "    def remove(self, item):\n",
    "        self.items.remove(item)\n",
    "\n",
    "\n",
    "# 2Na + 2H2O = 2NaOH + H2 (Не повторять дома!!! Пишут, что щелочь чрезвычайно опасна!)\n",
    "alchemy = Alchemy()\n",
    "alchemy.add(Item(\"Ca\", reacts_with=[]))\n",
    "alchemy.add(Item(\"H2O\", reacts_with=[\"Na\"]))\n",
    "\n",
    "try:\n",
    "    alchemy.add(Item(\"Na\", reacts_with=[\"H2O\"]))\n",
    "except BoomException:\n",
    "    print(\"We are alive! But all items lost!\")"
   ]
  },
  {
   "cell_type": "code",
   "execution_count": 34,
   "metadata": {},
   "outputs": [
    {
     "name": "stderr",
     "output_type": "stream",
     "text": [
      "...\n",
      "----------------------------------------------------------------------\n",
      "Ran 3 tests in 0.004s\n",
      "\n",
      "OK\n"
     ]
    },
    {
     "data": {
      "text/plain": [
       "<unittest.runner.TextTestResult run=3 errors=0 failures=0>"
      ]
     },
     "execution_count": 34,
     "metadata": {},
     "output_type": "execute_result"
    }
   ],
   "source": [
    "import unittest\n",
    "\n",
    "class AlchemyTest(unittest.TestCase):\n",
    "\n",
    "    def setUp(self):\n",
    "        self.alchemy = Alchemy()\n",
    "    \n",
    "    def test_add(self):\n",
    "        self.alchemy.add(Item(\"C\"))\n",
    "        self.alchemy.add(Item(\"F\"))\n",
    "        self.assertEqual(len(self.alchemy.items), 2)\n",
    "\n",
    "    def test_remove(self):\n",
    "        item = Item(\"C\")\n",
    "        self.alchemy.add(item)\n",
    "        self.assertEqual(len(self.alchemy.items), 1)\n",
    "        self.alchemy.remove(item)\n",
    "        self.assertEqual(len(self.alchemy.items), 0)\n",
    "\n",
    "    def test_boom(self):\n",
    "        item1 = Item(\"Na\", reacts_with=[\"H2O\"])\n",
    "        item2 = Item(\"H2O\", reacts_with=[\"Na\"])\n",
    "        self.alchemy.add(item1)\n",
    "        self.assertRaises(BoomException, self.alchemy.add, item2)\n",
    "        self.assertEqual(len(self.alchemy.items), 0)\n",
    "\n",
    "\n",
    "# Обычно в реальных проектах использует механизм автоматического нахождения тестов (discover).\n",
    "suite = unittest.defaultTestLoader.loadTestsFromTestCase(AlchemyTest)\n",
    "unittest.TextTestRunner().run(suite)"
   ]
  },
  {
   "cell_type": "markdown",
   "metadata": {},
   "source": [
    "## unittest.mock"
   ]
  },
  {
   "cell_type": "markdown",
   "metadata": {},
   "source": [
    "Как тестировать код, выполняющий внешние вызовы: чтение файла, запрос содержимого URL?"
   ]
  },
  {
   "cell_type": "code",
   "execution_count": 35,
   "metadata": {},
   "outputs": [
    {
     "data": {
      "text/plain": [
       "'Moscow'"
      ]
     },
     "execution_count": 35,
     "metadata": {},
     "output_type": "execute_result"
    }
   ],
   "source": [
    "import requests\n",
    "\n",
    "def get_location_city(ip):\n",
    "    data = requests.get(\"https://freegeoip.net/json/{ip}\".format(ip=ip)).json()\n",
    "    return data[\"city\"]\n",
    "\n",
    "def get_ip():\n",
    "    data = requests.get(\"https://httpbin.org/ip\").json()\n",
    "    return data[\"origin\"]\n",
    "\n",
    "get_location_city(get_ip())"
   ]
  },
  {
   "cell_type": "markdown",
   "metadata": {},
   "source": [
    "Для начала посмотрим что такое monkey patching."
   ]
  },
  {
   "cell_type": "code",
   "execution_count": 36,
   "metadata": {},
   "outputs": [
    {
     "name": "stdout",
     "output_type": "stream",
     "text": [
      "42\n"
     ]
    }
   ],
   "source": [
    "import math\n",
    "\n",
    "def fake_sqrt(num):\n",
    "    return 42\n",
    "\n",
    "original_sqrt = math.sqrt\n",
    "math.sqrt = fake_sqrt\n",
    "\n",
    "# вызываем ф-ю, которую мы запатчили.\n",
    "print(math.sqrt(16))\n",
    "\n",
    "math.sqrt = original_sqrt"
   ]
  },
  {
   "cell_type": "code",
   "execution_count": 37,
   "metadata": {
    "scrolled": true
   },
   "outputs": [
    {
     "data": {
      "text/plain": [
       "4.0"
      ]
     },
     "execution_count": 37,
     "metadata": {},
     "output_type": "execute_result"
    }
   ],
   "source": [
    "math.sqrt(16)"
   ]
  },
  {
   "cell_type": "code",
   "execution_count": 38,
   "metadata": {},
   "outputs": [
    {
     "name": "stderr",
     "output_type": "stream",
     "text": [
      ".\n",
      "----------------------------------------------------------------------\n",
      "Ran 1 test in 0.001s\n",
      "\n",
      "OK\n"
     ]
    },
    {
     "data": {
      "text/plain": [
       "<unittest.runner.TextTestResult run=1 errors=0 failures=0>"
      ]
     },
     "execution_count": 38,
     "metadata": {},
     "output_type": "execute_result"
    }
   ],
   "source": [
    "import unittest\n",
    "from unittest.mock import patch, Mock\n",
    "\n",
    "\n",
    "class FakeIPResponse:\n",
    "\n",
    "    def json(self):\n",
    "        return {\"origin\": \"127.0.0.1\"}\n",
    "\n",
    "\n",
    "class LongestWordTestCase(unittest.TestCase):\n",
    "\n",
    "    @patch('requests.get', Mock(return_value=FakeIPResponse()))\n",
    "    def test_get_ip(self):\n",
    "        self.assertEqual(get_ip(), \"127.0.0.1\")\n",
    "\n",
    "suite = unittest.defaultTestLoader.loadTestsFromTestCase(LongestWordTestCase)\n",
    "unittest.TextTestRunner().run(suite)"
   ]
  },
  {
   "cell_type": "code",
   "execution_count": 39,
   "metadata": {
    "collapsed": true
   },
   "outputs": [],
   "source": [
    "from unittest.mock import Mock\n",
    "\n",
    "mock = Mock()\n",
    "mock.method(1, 2, 3, test='wow')\n",
    "\n",
    "mock.method.assert_called_with(1, 2, 3, test='wow')\n",
    "mock.non_existing_method.assert_not_called()"
   ]
  },
  {
   "cell_type": "markdown",
   "metadata": {},
   "source": [
    "https://docs.python.org/3/library/unittest.mock.html\n",
    "\n",
    "Библиотека `coverage` позволяет оценить степень покрытия кода тестами.\n",
    "\n",
    "Помимо unit-тестирования существует масса других типов тестов:\n",
    "* Интеграционные (как разные компоненты взаимодействуют друг с другом)\n",
    "* Функциональные (напр. Selenium)\n",
    "* Тестирование производительности (бенчмарки)\n",
    "* ..."
   ]
  },
  {
   "cell_type": "markdown",
   "metadata": {},
   "source": [
    "Полезные библиотеки для тестирования - https://github.com/vinta/awesome-python#testing"
   ]
  },
  {
   "cell_type": "markdown",
   "metadata": {
    "collapsed": true
   },
   "source": [
    "# Многопоточность"
   ]
  },
  {
   "cell_type": "markdown",
   "metadata": {},
   "source": [
    "Что такое процесс?\n",
    "\n",
    "UNIX является многозадачной операционной системой. Это означает, что одновременно может быть запущена более чем одна программа. Каждая программа, работающая в некоторый момент времени, называется процессом.\n",
    "\n",
    "http://www.kharchuk.ru/%D0%A1%D1%82%D0%B0%D1%82%D1%8C%D0%B8/15-unix-foundations/80-unix-processes"
   ]
  },
  {
   "cell_type": "code",
   "execution_count": 45,
   "metadata": {},
   "outputs": [
    {
     "name": "stdout",
     "output_type": "stream",
     "text": [
      "50000000\n",
      "1 loop, best of 3: 3.22 s per loop\n",
      "Напомните преподавателю показать actvity monitor\n"
     ]
    }
   ],
   "source": [
    "STEPS = 50000000\n",
    "\n",
    "# Простая программа, складывающая числа.\n",
    "def worker(steps):\n",
    "    count = 0\n",
    "    for i in range(steps):\n",
    "        count += 1\n",
    "    return count\n",
    "\n",
    "print(worker(STEPS))\n",
    "\n",
    "%timeit -n1 worker(STEPS)\n",
    "\n",
    "print(\"Напомните преподавателю показать actvity monitor\")"
   ]
  },
  {
   "cell_type": "markdown",
   "metadata": {},
   "source": [
    "<div style=\"float:left;margin:0 10px 10px 0\" markdown=\"1\">![title](img/g3.png)</div>"
   ]
  },
  {
   "cell_type": "markdown",
   "metadata": {},
   "source": [
    "Что такое поток?\n",
    "\n",
    "Многопоточность является естественным продолжением многозадачности. Каждый из процессов может выполнятся в несколько потоков. Программа выше исполнялась в одном процессе в главном потоке."
   ]
  },
  {
   "cell_type": "markdown",
   "metadata": {},
   "source": [
    "<div style=\"float:left;margin:0 10px 10px 0\" markdown=\"1\">![title](img/threads.jpg)</div>"
   ]
  },
  {
   "cell_type": "markdown",
   "metadata": {},
   "source": [
    "http://www.cs.miami.edu/home/visser/Courses/CSC322-09S/Content/UNIXProgramming/UNIXThreads.shtml\n",
    "\n",
    "Логичный шаг предположить, что 2 потока выполнят программу выше быстрее. Проверим?"
   ]
  },
  {
   "cell_type": "code",
   "execution_count": 46,
   "metadata": {},
   "outputs": [
    {
     "name": "stdout",
     "output_type": "stream",
     "text": [
      "50000000\n",
      "1 loop, best of 3: 3.24 s per loop\n"
     ]
    }
   ],
   "source": [
    "import threading\n",
    "import queue\n",
    "\n",
    "result_queue = queue.Queue()\n",
    "\n",
    "STEPS = 50000000\n",
    "NUM_THREADS = 2\n",
    "\n",
    "def worker(steps):\n",
    "    count = 0\n",
    "    for i in range(steps):\n",
    "        count += 1\n",
    "    result_queue.put(count)\n",
    "\n",
    "\n",
    "def get_count_threaded():    \n",
    "    count = 0\n",
    "    threads = []\n",
    "\n",
    "    for i in range(NUM_THREADS):\n",
    "        t = threading.Thread(target=worker, args=(STEPS//NUM_THREADS,))\n",
    "        threads.append(t)\n",
    "        t.start()\n",
    "\n",
    "    for i in range(NUM_THREADS):\n",
    "        count += result_queue.get()\n",
    "\n",
    "    return count\n",
    "\n",
    "print(get_count_threaded())\n",
    "%timeit -n1 get_count_threaded()"
   ]
  },
  {
   "cell_type": "markdown",
   "metadata": {},
   "source": [
    "<div style=\"float:left;margin:0 10px 10px 0\" markdown=\"1\">![title](img/g4.png)</div>"
   ]
  },
  {
   "cell_type": "markdown",
   "metadata": {},
   "source": [
    "GIL\n",
    "\n",
    "https://jeffknupp.com/blog/2012/03/31/pythons-hardest-problem/\n",
    "\n",
    "Ок. Неужели выхода нет? Есть - multiprocessing"
   ]
  },
  {
   "cell_type": "markdown",
   "metadata": {},
   "source": [
    "## Мультипроцессинг"
   ]
  },
  {
   "cell_type": "code",
   "execution_count": 48,
   "metadata": {},
   "outputs": [
    {
     "name": "stdout",
     "output_type": "stream",
     "text": [
      "50000000\n",
      "1 loop, best of 3: 1.7 s per loop\n"
     ]
    }
   ],
   "source": [
    "import multiprocessing\n",
    "\n",
    "NUM_PROCESSES = 2\n",
    "STEPS = 50000000\n",
    "\n",
    "result_queue = multiprocessing.Queue()\n",
    "\n",
    "def worker(steps):\n",
    "    count = 0\n",
    "    for i in range(steps):\n",
    "        count += 1\n",
    "\n",
    "    result_queue.put(count)\n",
    "\n",
    "\n",
    "def get_count_in_processes():    \n",
    "    count = 0\n",
    "    processes = []\n",
    "    for i in range(NUM_PROCESSES):\n",
    "        p = multiprocessing.Process(target=worker, args=(STEPS//NUM_PROCESSES,))\n",
    "        processes.append(p)\n",
    "        p.start()\n",
    "\n",
    "    for i in range(NUM_PROCESSES):\n",
    "        count += result_queue.get()\n",
    "\n",
    "    return count\n",
    "\n",
    "print(get_count_in_processes())\n",
    "%timeit -n1 get_count_in_processes()"
   ]
  },
  {
   "cell_type": "markdown",
   "metadata": {
    "collapsed": true
   },
   "source": [
    "**Зачем тогда нужны потоки?**"
   ]
  },
  {
   "cell_type": "markdown",
   "metadata": {},
   "source": [
    "Все потому что не все задачи CPU-bound. Есть IO-bound задачи, которые прекрасно параллелятся на несколько CPU. Кто приведет пример?"
   ]
  },
  {
   "cell_type": "markdown",
   "metadata": {},
   "source": [
    "В качестве примера поднимем HTTP-сервер на порту 8000 (server.go). По адресу http://localhost:8000 будет отдаваться небольшой кусочек текста. Наша задача - скачивать контент по этому адресу."
   ]
  },
  {
   "cell_type": "code",
   "execution_count": 49,
   "metadata": {},
   "outputs": [
    {
     "name": "stdout",
     "output_type": "stream",
     "text": [
      "1 loop, best of 3: 10.7 s per loop\n"
     ]
    }
   ],
   "source": [
    "import requests\n",
    "\n",
    "STEPS = 100\n",
    "\n",
    "def download():\n",
    "    requests.get(\"http://127.0.0.1:8000\").text\n",
    "\n",
    "# Простая программа, загружающая контент URL-странички. Типичная IO-bound задача.\n",
    "def worker(steps):\n",
    "    for i in range(steps):\n",
    "        download()\n",
    "\n",
    "%timeit -n1 worker(STEPS)"
   ]
  },
  {
   "cell_type": "markdown",
   "metadata": {},
   "source": [
    "<div style=\"float:left;margin:0 10px 10px 0\" markdown=\"1\">![title](img/g1.png)</div>"
   ]
  },
  {
   "cell_type": "code",
   "execution_count": 64,
   "metadata": {},
   "outputs": [
    {
     "name": "stdout",
     "output_type": "stream",
     "text": [
      "1 loop, best of 3: 5.42 s per loop\n"
     ]
    }
   ],
   "source": [
    "import threading\n",
    "\n",
    "STEPS = 100\n",
    "NUM_THREADS = 2\n",
    "\n",
    "def worker(steps):\n",
    "    count = 0\n",
    "    for i in range(steps):\n",
    "        download()\n",
    "\n",
    "def run_worker_threaded():    \n",
    "    threads = []\n",
    "\n",
    "    for i in range(NUM_THREADS):\n",
    "        t = threading.Thread(target=worker, args=(STEPS//NUM_THREADS,))\n",
    "        threads.append(t)\n",
    "        t.start()\n",
    "\n",
    "    for t in threads:\n",
    "        t.join()\n",
    "\n",
    "\n",
    "%timeit -n1 run_worker_threaded()"
   ]
  },
  {
   "cell_type": "markdown",
   "metadata": {},
   "source": [
    "<div style=\"float:left;margin:0 10px 10px 0\" markdown=\"1\">![title](img/g2.png)</div>"
   ]
  },
  {
   "cell_type": "markdown",
   "metadata": {},
   "source": [
    "Ради интереса попробуем мультипроцессинг для этой задачи:"
   ]
  },
  {
   "cell_type": "code",
   "execution_count": 67,
   "metadata": {},
   "outputs": [
    {
     "name": "stdout",
     "output_type": "stream",
     "text": [
      "1 loop, best of 3: 5.32 s per loop\n"
     ]
    }
   ],
   "source": [
    "import multiprocessing\n",
    "\n",
    "NUM_PROCESSES = 2\n",
    "\n",
    "def worker(steps):\n",
    "    count = 0\n",
    "    for i in range(steps):\n",
    "        download()\n",
    "\n",
    "def run_worker_in_processes():    \n",
    "    processes = []\n",
    "\n",
    "    for i in range(NUM_PROCESSES):\n",
    "        p = multiprocessing.Process(target=worker, args=(STEPS//NUM_PROCESSES,))\n",
    "        processes.append(p)\n",
    "        p.start()\n",
    "\n",
    "    for p in processes:\n",
    "        p.join()\n",
    "\n",
    "%timeit -n1 run_worker_in_processes()"
   ]
  },
  {
   "cell_type": "markdown",
   "metadata": {},
   "source": [
    "Как мы видим - треды позволили получить лучший результат (Macbook Pro 2016 - 64 треда).\n",
    "\n",
    "Чтобы упростить работу с тредами в Python есть модуль concurrent.futures: \n",
    "он предоставляет доступ к 2-м высокоуровневым объектам: ThreadPoolExecutor и ProcessPoolExecutor"
   ]
  },
  {
   "cell_type": "code",
   "execution_count": 71,
   "metadata": {},
   "outputs": [
    {
     "name": "stdout",
     "output_type": "stream",
     "text": [
      "1 loop, best of 3: 386 ms per loop\n"
     ]
    }
   ],
   "source": [
    "import concurrent.futures\n",
    "import requests\n",
    "\n",
    "STEPS = 100\n",
    "\n",
    "def download():\n",
    "    return requests.get(\"http://127.0.0.1:8000\").text\n",
    "\n",
    "def run_in_executor():\n",
    "    executor = concurrent.futures.ThreadPoolExecutor(max_workers=64)\n",
    "\n",
    "    future_to_url = {executor.submit(download): i for i in range(STEPS)}\n",
    "    for future in concurrent.futures.as_completed(future_to_url):\n",
    "        i = future_to_url[future]\n",
    "        try:\n",
    "            data = future.result()\n",
    "        except Exception as exc:\n",
    "            print('%d generated an exception: %s' % (i, exc))\n",
    "        else:\n",
    "            print('%d page is %d bytes' % (i, len(data)))\n",
    "\n",
    "    executor.shutdown()\n",
    "\n",
    "run_in_executor()\n",
    "#%timeit -n1 run_in_executor()"
   ]
  },
  {
   "cell_type": "markdown",
   "metadata": {},
   "source": [
    "Аналогично можно использовать ProcessPoolExecutor, чтобы вынести работу в пул процессов. "
   ]
  },
  {
   "cell_type": "markdown",
   "metadata": {},
   "source": [
    "## Сложность многопоточных приложений"
   ]
  },
  {
   "cell_type": "code",
   "execution_count": 80,
   "metadata": {},
   "outputs": [
    {
     "name": "stdout",
     "output_type": "stream",
     "text": [
      "1000000\n"
     ]
    }
   ],
   "source": [
    "counter = 0\n",
    "\n",
    "def worker(num):\n",
    "    global counter\n",
    "    for i in range(num):\n",
    "        counter += 1\n",
    "\n",
    "worker(1000000)\n",
    "\n",
    "print(counter)"
   ]
  },
  {
   "cell_type": "code",
   "execution_count": 77,
   "metadata": {
    "collapsed": true
   },
   "outputs": [],
   "source": [
    "import threading\n",
    "\n",
    "counter = 0\n",
    "\n",
    "def worker(num):\n",
    "    global counter\n",
    "    for i in range(num):\n",
    "        counter += 1\n",
    "\n",
    "threads = []\n",
    "for i in range(10):\n",
    "    t = threading.Thread(target=worker, args=(100000,))\n",
    "    threads.append(t)\n",
    "    t.start()\n",
    "\n",
    "for t in threads:\n",
    "    t.join()\n",
    "\n",
    "#print(counter)"
   ]
  },
  {
   "cell_type": "code",
   "execution_count": 78,
   "metadata": {},
   "outputs": [
    {
     "name": "stdout",
     "output_type": "stream",
     "text": [
      "1000000\n"
     ]
    }
   ],
   "source": [
    "import threading\n",
    "\n",
    "counter = 0\n",
    "lock = threading.Lock()\n",
    "\n",
    "def worker(num):\n",
    "    global counter\n",
    "    for i in range(num):\n",
    "        lock.acquire()\n",
    "        counter += 1\n",
    "        lock.release()\n",
    "\n",
    "threads = []\n",
    "for i in range(10):\n",
    "    t = threading.Thread(target=worker, args=(100000,))\n",
    "    threads.append(t)\n",
    "    t.start()\n",
    "\n",
    "for t in threads:\n",
    "    t.join()\n",
    "\n",
    "print(counter)"
   ]
  },
  {
   "cell_type": "code",
   "execution_count": 79,
   "metadata": {},
   "outputs": [
    {
     "ename": "KeyboardInterrupt",
     "evalue": "",
     "output_type": "error",
     "traceback": [
      "\u001b[0;31m---------------------------------------------------------------------------\u001b[0m",
      "\u001b[0;31mKeyboardInterrupt\u001b[0m                         Traceback (most recent call last)",
      "\u001b[0;32m<ipython-input-79-8c0ff98f22b4>\u001b[0m in \u001b[0;36m<module>\u001b[0;34m()\u001b[0m\n\u001b[1;32m     17\u001b[0m     \u001b[0mlock\u001b[0m\u001b[0;34m.\u001b[0m\u001b[0mrelease\u001b[0m\u001b[0;34m(\u001b[0m\u001b[0;34m)\u001b[0m\u001b[0;34m\u001b[0m\u001b[0m\n\u001b[1;32m     18\u001b[0m \u001b[0;34m\u001b[0m\u001b[0m\n\u001b[0;32m---> 19\u001b[0;31m \u001b[0mworker\u001b[0m\u001b[0;34m(\u001b[0m\u001b[0;34m)\u001b[0m\u001b[0;34m\u001b[0m\u001b[0m\n\u001b[0m",
      "\u001b[0;32m<ipython-input-79-8c0ff98f22b4>\u001b[0m in \u001b[0;36mworker\u001b[0;34m()\u001b[0m\n\u001b[1;32m     13\u001b[0m     \u001b[0;32mglobal\u001b[0m \u001b[0mcounter\u001b[0m\u001b[0;34m\u001b[0m\u001b[0m\n\u001b[1;32m     14\u001b[0m     \u001b[0mlock\u001b[0m\u001b[0;34m.\u001b[0m\u001b[0macquire\u001b[0m\u001b[0;34m(\u001b[0m\u001b[0;34m)\u001b[0m\u001b[0;34m\u001b[0m\u001b[0m\n\u001b[0;32m---> 15\u001b[0;31m     \u001b[0mprint_counter\u001b[0m\u001b[0;34m(\u001b[0m\u001b[0;34m)\u001b[0m\u001b[0;34m\u001b[0m\u001b[0m\n\u001b[0m\u001b[1;32m     16\u001b[0m     \u001b[0mcounter\u001b[0m \u001b[0;34m+=\u001b[0m \u001b[0;36m1\u001b[0m\u001b[0;34m\u001b[0m\u001b[0m\n\u001b[1;32m     17\u001b[0m     \u001b[0mlock\u001b[0m\u001b[0;34m.\u001b[0m\u001b[0mrelease\u001b[0m\u001b[0;34m(\u001b[0m\u001b[0;34m)\u001b[0m\u001b[0;34m\u001b[0m\u001b[0m\n",
      "\u001b[0;32m<ipython-input-79-8c0ff98f22b4>\u001b[0m in \u001b[0;36mprint_counter\u001b[0;34m()\u001b[0m\n\u001b[1;32m      6\u001b[0m \u001b[0;34m\u001b[0m\u001b[0m\n\u001b[1;32m      7\u001b[0m \u001b[0;32mdef\u001b[0m \u001b[0mprint_counter\u001b[0m\u001b[0;34m(\u001b[0m\u001b[0;34m)\u001b[0m\u001b[0;34m:\u001b[0m\u001b[0;34m\u001b[0m\u001b[0m\n\u001b[0;32m----> 8\u001b[0;31m     \u001b[0mlock\u001b[0m\u001b[0;34m.\u001b[0m\u001b[0macquire\u001b[0m\u001b[0;34m(\u001b[0m\u001b[0;34m)\u001b[0m\u001b[0;34m\u001b[0m\u001b[0m\n\u001b[0m\u001b[1;32m      9\u001b[0m     \u001b[0mprint\u001b[0m\u001b[0;34m(\u001b[0m\u001b[0mcounter\u001b[0m\u001b[0;34m)\u001b[0m\u001b[0;34m\u001b[0m\u001b[0m\n\u001b[1;32m     10\u001b[0m     \u001b[0mlock\u001b[0m\u001b[0;34m.\u001b[0m\u001b[0mrelease\u001b[0m\u001b[0;34m(\u001b[0m\u001b[0;34m)\u001b[0m\u001b[0;34m\u001b[0m\u001b[0m\n",
      "\u001b[0;31mKeyboardInterrupt\u001b[0m: "
     ]
    }
   ],
   "source": [
    "# deadlock example\n",
    "import threading\n",
    "\n",
    "counter = 0\n",
    "lock = threading.Lock()\n",
    "\n",
    "def print_counter():\n",
    "    lock.acquire()\n",
    "    print(counter)\n",
    "    lock.release()\n",
    "\n",
    "def worker():\n",
    "    global counter\n",
    "    lock.acquire()\n",
    "    print_counter()\n",
    "    counter += 1\n",
    "    lock.release()\n",
    "    \n",
    "worker()"
   ]
  },
  {
   "cell_type": "markdown",
   "metadata": {
    "collapsed": true
   },
   "source": [
    "**Вернемся к примеру с загрузкой URL: можем ли мы сделать еще лучше?**\n",
    "\n",
    "* загружать странички еще быстрее\n",
    "* потреблять меньше памяти, не расходуя ее на создание потоков\n",
    "* не задумываться о синхронизации потоков"
   ]
  },
  {
   "cell_type": "markdown",
   "metadata": {},
   "source": [
    "# Асинхронное программирование\n",
    "\n",
    "Мотивация - IO-операции очень медленные, нужно заставить программу выполнять полезную работу во время ожидания ввода-вывода."
   ]
  },
  {
   "cell_type": "markdown",
   "metadata": {},
   "source": [
    "Сравнение Latency некоторых операций (https://gist.github.com/jboner/2841832)\n",
    "<table align=\"left\">\n",
    "    <tr>\n",
    "        <td>L1 CPU cache reference</td>\n",
    "        <td>0.5 ns</td>\n",
    "        <td></td>\n",
    "    </tr>\n",
    "    <tr>\n",
    "        <td>Main memory reference</td>\n",
    "        <td>100 ns</td>\n",
    "        <td>200x L1 cache</td>\n",
    "    </tr>\n",
    "    <tr>\n",
    "        <td>Read 1 MB sequentially from memory</td>\n",
    "        <td>250,000 ns (250 us)</td>\n",
    "        <td></td>\n",
    "    </tr>\n",
    "    <tr>\n",
    "        <td>Round trip within same datacenter</td>\n",
    "        <td>500,000 ns (500 us)</td>\n",
    "        <td></td>\n",
    "    </tr>\n",
    "    <tr>\n",
    "        <td>Read 1 MB sequentially from SSD*</td>\n",
    "        <td>1,000,000 ns (1,000 us, 1ms)</td>\n",
    "        <td></td>\n",
    "    </tr>\n",
    "    <tr>\n",
    "        <td>Read 1 MB sequentially from disk</td>\n",
    "        <td>20,000,000 ns (20,000 us, 20 ms)</td>\n",
    "        <td>80x memory, 20X SSD</td>\n",
    "    </tr>\n",
    "    <tr>\n",
    "        <td>Send packet CA->Netherlands->CA</td>\n",
    "        <td>150,000,000 ns (150,000 us, 150 ms)</td>\n",
    "        <td></td>\n",
    "    </tr>    \n",
    "</table>"
   ]
  },
  {
   "cell_type": "markdown",
   "metadata": {},
   "source": [
    "Вернемся к упрощенному варианту нашей программы, загружавшей URL в одном потоке синхронно."
   ]
  },
  {
   "cell_type": "code",
   "execution_count": 84,
   "metadata": {},
   "outputs": [
    {
     "name": "stdout",
     "output_type": "stream",
     "text": [
      "Sending request 1\n",
      "Got response from request 1\n",
      "\n",
      "Sending request 2\n",
      "Got response from request 2\n",
      "\n",
      "Sending request 3\n",
      "Got response from request 3\n",
      "\n",
      "Sending request 4\n",
      "Got response from request 4\n",
      "\n",
      "Sending request 5\n",
      "Got response from request 5\n",
      "\n"
     ]
    }
   ],
   "source": [
    "import time\n",
    "\n",
    "def request(i):\n",
    "    print(f\"Sending request {i+1}\")\n",
    "    time.sleep(1)\n",
    "    print(f\"Got response from request {i+1}\")\n",
    "    print()\n",
    "\n",
    "for i in range(5):\n",
    "    request(i)"
   ]
  },
  {
   "cell_type": "markdown",
   "metadata": {},
   "source": [
    "На запрос тратится 1 секунда, и мы ждем 5 секунд на 5 запросов - а ведь могли бы отправить их друг за другом и через секунду получить результаты для всех и обработать.\n",
    "\n",
    "Подход с callback-ами:"
   ]
  },
  {
   "cell_type": "code",
   "execution_count": 85,
   "metadata": {},
   "outputs": [
    {
     "name": "stdout",
     "output_type": "stream",
     "text": [
      "Sending request 0\n",
      "Sending request 1\n",
      "Sending request 2\n",
      "Sending request 3\n",
      "Sending request 4\n",
      "Got response from request 0\n",
      "Got response from request 1\n",
      "Got response from request 2\n",
      "Got response from request 3\n",
      "Got response from request 4\n"
     ]
    }
   ],
   "source": [
    "import time\n",
    "\n",
    "def request(i):\n",
    "    print(\"Sending request %d\" % i)\n",
    "\n",
    "    def on_data(data):\n",
    "        print(\"Got response from request %d\" % i)\n",
    "\n",
    "    return on_data\n",
    "\n",
    "callbacks = []\n",
    "        \n",
    "for i in range(5):\n",
    "    cb = request(i)\n",
    "    callbacks.append(cb)\n",
    "\n",
    "time.sleep(1)\n",
    "\n",
    "for cb in callbacks:\n",
    "    cb(\"data\")"
   ]
  },
  {
   "cell_type": "markdown",
   "metadata": {},
   "source": [
    "## Генераторы"
   ]
  },
  {
   "cell_type": "markdown",
   "metadata": {},
   "source": [
    "Это функция, которая генерирует последовательность значений используя ключевое слово **yield**"
   ]
  },
  {
   "cell_type": "markdown",
   "metadata": {},
   "source": [
    "Самый простой пример:"
   ]
  },
  {
   "cell_type": "code",
   "execution_count": 86,
   "metadata": {
    "scrolled": true
   },
   "outputs": [
    {
     "name": "stdout",
     "output_type": "stream",
     "text": [
      "1\n",
      "2\n"
     ]
    },
    {
     "ename": "StopIteration",
     "evalue": "",
     "output_type": "error",
     "traceback": [
      "\u001b[0;31m---------------------------------------------------------------------------\u001b[0m",
      "\u001b[0;31mStopIteration\u001b[0m                             Traceback (most recent call last)",
      "\u001b[0;32m<ipython-input-86-a356859e67b4>\u001b[0m in \u001b[0;36m<module>\u001b[0;34m()\u001b[0m\n\u001b[1;32m      6\u001b[0m \u001b[0mprint\u001b[0m\u001b[0;34m(\u001b[0m\u001b[0mnext\u001b[0m\u001b[0;34m(\u001b[0m\u001b[0mgen\u001b[0m\u001b[0;34m)\u001b[0m\u001b[0;34m)\u001b[0m\u001b[0;34m\u001b[0m\u001b[0m\n\u001b[1;32m      7\u001b[0m \u001b[0mprint\u001b[0m\u001b[0;34m(\u001b[0m\u001b[0mnext\u001b[0m\u001b[0;34m(\u001b[0m\u001b[0mgen\u001b[0m\u001b[0;34m)\u001b[0m\u001b[0;34m)\u001b[0m\u001b[0;34m\u001b[0m\u001b[0m\n\u001b[0;32m----> 8\u001b[0;31m \u001b[0mprint\u001b[0m\u001b[0;34m(\u001b[0m\u001b[0mnext\u001b[0m\u001b[0;34m(\u001b[0m\u001b[0mgen\u001b[0m\u001b[0;34m)\u001b[0m\u001b[0;34m)\u001b[0m\u001b[0;34m\u001b[0m\u001b[0m\n\u001b[0m",
      "\u001b[0;31mStopIteration\u001b[0m: "
     ]
    }
   ],
   "source": [
    "def simple_gen():\n",
    "    yield 1\n",
    "    yield 2\n",
    "\n",
    "gen = simple_gen()\n",
    "print(next(gen))\n",
    "print(next(gen))\n",
    "print(next(gen))"
   ]
  },
  {
   "cell_type": "code",
   "execution_count": 87,
   "metadata": {},
   "outputs": [
    {
     "name": "stdout",
     "output_type": "stream",
     "text": [
      "1\n",
      "2\n"
     ]
    }
   ],
   "source": [
    "gen = simple_gen()\n",
    "for i in gen:\n",
    "    print(i)"
   ]
  },
  {
   "cell_type": "markdown",
   "metadata": {},
   "source": [
    "Первый плюс: **получить значения, не загружая все элементы в память**. Яркий пример - range."
   ]
  },
  {
   "cell_type": "markdown",
   "metadata": {},
   "source": [
    "Чуть посложнее (с состоянием):"
   ]
  },
  {
   "cell_type": "code",
   "execution_count": 88,
   "metadata": {
    "scrolled": true
   },
   "outputs": [
    {
     "name": "stdout",
     "output_type": "stream",
     "text": [
      "0\n",
      "1\n",
      "1\n",
      "2\n",
      "3\n",
      "5\n"
     ]
    }
   ],
   "source": [
    "def fib():\n",
    "    a, b = 0, 1\n",
    "    while True:\n",
    "        yield a\n",
    "        a, b = b, a + b\n",
    "\n",
    "gen = fib()\n",
    "for i in range(6):\n",
    "    print(next(gen))"
   ]
  },
  {
   "cell_type": "markdown",
   "metadata": {},
   "source": [
    "Второй плюс: **получить значения сразу после того как они были вычислены**"
   ]
  },
  {
   "cell_type": "markdown",
   "metadata": {},
   "source": [
    "Корутины на основе генераторов:"
   ]
  },
  {
   "cell_type": "code",
   "execution_count": 89,
   "metadata": {
    "scrolled": true
   },
   "outputs": [
    {
     "name": "stdout",
     "output_type": "stream",
     "text": [
      "Hello\n",
      "World\n"
     ]
    }
   ],
   "source": [
    "def coro():\n",
    "    next_value = yield \"Hello\"\n",
    "    yield next_value\n",
    "\n",
    "c = coro()\n",
    "print(next(c))\n",
    "print(c.send(\"World\"))"
   ]
  },
  {
   "cell_type": "markdown",
   "metadata": {},
   "source": [
    "Можно работать с бесконечным потоком данных. Можно обмениваться результатами между отдельными генераторами по мере готовности - то есть иметь дело с несколькими параллельными задачами. При этом не обязательно эти задачи зависят друг от друга.\n",
    "\n",
    "Для более глубокого понимания и изучения других особенностей - http://www.dabeaz.com/finalgenerator/"
   ]
  },
  {
   "cell_type": "code",
   "execution_count": 90,
   "metadata": {},
   "outputs": [
    {
     "name": "stdout",
     "output_type": "stream",
     "text": [
      "Sending request 0\n",
      "Sending request 1\n",
      "Sending request 2\n",
      "Sending request 3\n",
      "Sending request 4\n",
      "Got response from request 0\n",
      "Got response from request 1\n",
      "Got response from request 2\n",
      "Got response from request 3\n",
      "Got response from request 4\n"
     ]
    }
   ],
   "source": [
    "import time\n",
    "\n",
    "def request(i):\n",
    "    print(\"Sending request %d\" % i)\n",
    "    data = yield\n",
    "    print(\"Got response from request %d\" % i)\n",
    "\n",
    "generators = []\n",
    "\n",
    "for i in range(5):\n",
    "    gen = request(i)\n",
    "    generators.append(gen)\n",
    "    next(gen)\n",
    "\n",
    "time.sleep(1)\n",
    "\n",
    "for gen in generators:\n",
    "    try:\n",
    "        gen.send(\"data\")\n",
    "    except StopIteration:\n",
    "        pass\n"
   ]
  },
  {
   "cell_type": "markdown",
   "metadata": {
    "collapsed": true
   },
   "source": [
    "**В контексте лекции важно понять, что выполнение функции-генератора в Python можно приостановить, дождаться нужных данных, а затем продолжить выполнение с места прерывания. При этом сохраняется локальный контекст выполнения и пока мы ждем данных интерпретатор может заниматься другой полезной работой**"
   ]
  },
  {
   "cell_type": "markdown",
   "metadata": {},
   "source": [
    "## Asyncio"
   ]
  },
  {
   "cell_type": "markdown",
   "metadata": {},
   "source": [
    "Асинхронное программирование с использованием библиотеки asyncio строится вокруг понятия Event Loop - \"цикл событий\". Event loop является основным координатором в асинхронных программах на Python. Он отвечает за:\n",
    "\n",
    "* шедулинг корутин и коллбеков\n",
    "* регистрацию отложенных вызовов\n",
    "* регистрацию таймеров\n",
    "\n",
    "Это позволяет писать программы так, что в момент блокирующих IO операций контекст выполнения будет переключаться на другие задачи, ждущие выполнения."
   ]
  },
  {
   "cell_type": "code",
   "execution_count": 91,
   "metadata": {},
   "outputs": [
    {
     "ename": "KeyboardInterrupt",
     "evalue": "",
     "output_type": "error",
     "traceback": [
      "\u001b[0;31m---------------------------------------------------------------------------\u001b[0m",
      "\u001b[0;31mKeyboardInterrupt\u001b[0m                         Traceback (most recent call last)",
      "\u001b[0;32m<ipython-input-91-820a8cbd667d>\u001b[0m in \u001b[0;36m<module>\u001b[0;34m()\u001b[0m\n\u001b[1;32m      2\u001b[0m \u001b[0;34m\u001b[0m\u001b[0m\n\u001b[1;32m      3\u001b[0m \u001b[0mloop\u001b[0m \u001b[0;34m=\u001b[0m \u001b[0masyncio\u001b[0m\u001b[0;34m.\u001b[0m\u001b[0mget_event_loop\u001b[0m\u001b[0;34m(\u001b[0m\u001b[0;34m)\u001b[0m\u001b[0;34m\u001b[0m\u001b[0m\n\u001b[0;32m----> 4\u001b[0;31m \u001b[0mloop\u001b[0m\u001b[0;34m.\u001b[0m\u001b[0mrun_forever\u001b[0m\u001b[0;34m(\u001b[0m\u001b[0;34m)\u001b[0m\u001b[0;34m\u001b[0m\u001b[0m\n\u001b[0m",
      "\u001b[0;32m/usr/local/Cellar/python3/3.6.0/Frameworks/Python.framework/Versions/3.6/lib/python3.6/asyncio/base_events.py\u001b[0m in \u001b[0;36mrun_forever\u001b[0;34m(self)\u001b[0m\n\u001b[1;32m    419\u001b[0m             \u001b[0mevents\u001b[0m\u001b[0;34m.\u001b[0m\u001b[0m_set_running_loop\u001b[0m\u001b[0;34m(\u001b[0m\u001b[0mself\u001b[0m\u001b[0;34m)\u001b[0m\u001b[0;34m\u001b[0m\u001b[0m\n\u001b[1;32m    420\u001b[0m             \u001b[0;32mwhile\u001b[0m \u001b[0;32mTrue\u001b[0m\u001b[0;34m:\u001b[0m\u001b[0;34m\u001b[0m\u001b[0m\n\u001b[0;32m--> 421\u001b[0;31m                 \u001b[0mself\u001b[0m\u001b[0;34m.\u001b[0m\u001b[0m_run_once\u001b[0m\u001b[0;34m(\u001b[0m\u001b[0;34m)\u001b[0m\u001b[0;34m\u001b[0m\u001b[0m\n\u001b[0m\u001b[1;32m    422\u001b[0m                 \u001b[0;32mif\u001b[0m \u001b[0mself\u001b[0m\u001b[0;34m.\u001b[0m\u001b[0m_stopping\u001b[0m\u001b[0;34m:\u001b[0m\u001b[0;34m\u001b[0m\u001b[0m\n\u001b[1;32m    423\u001b[0m                     \u001b[0;32mbreak\u001b[0m\u001b[0;34m\u001b[0m\u001b[0m\n",
      "\u001b[0;32m/usr/local/Cellar/python3/3.6.0/Frameworks/Python.framework/Versions/3.6/lib/python3.6/asyncio/base_events.py\u001b[0m in \u001b[0;36m_run_once\u001b[0;34m(self)\u001b[0m\n\u001b[1;32m   1387\u001b[0m                            timeout * 1e3, dt * 1e3)\n\u001b[1;32m   1388\u001b[0m         \u001b[0;32melse\u001b[0m\u001b[0;34m:\u001b[0m\u001b[0;34m\u001b[0m\u001b[0m\n\u001b[0;32m-> 1389\u001b[0;31m             \u001b[0mevent_list\u001b[0m \u001b[0;34m=\u001b[0m \u001b[0mself\u001b[0m\u001b[0;34m.\u001b[0m\u001b[0m_selector\u001b[0m\u001b[0;34m.\u001b[0m\u001b[0mselect\u001b[0m\u001b[0;34m(\u001b[0m\u001b[0mtimeout\u001b[0m\u001b[0;34m)\u001b[0m\u001b[0;34m\u001b[0m\u001b[0m\n\u001b[0m\u001b[1;32m   1390\u001b[0m         \u001b[0mself\u001b[0m\u001b[0;34m.\u001b[0m\u001b[0m_process_events\u001b[0m\u001b[0;34m(\u001b[0m\u001b[0mevent_list\u001b[0m\u001b[0;34m)\u001b[0m\u001b[0;34m\u001b[0m\u001b[0m\n\u001b[1;32m   1391\u001b[0m \u001b[0;34m\u001b[0m\u001b[0m\n",
      "\u001b[0;32m/usr/local/Cellar/python3/3.6.0/Frameworks/Python.framework/Versions/3.6/lib/python3.6/selectors.py\u001b[0m in \u001b[0;36mselect\u001b[0;34m(self, timeout)\u001b[0m\n\u001b[1;32m    575\u001b[0m             \u001b[0mready\u001b[0m \u001b[0;34m=\u001b[0m \u001b[0;34m[\u001b[0m\u001b[0;34m]\u001b[0m\u001b[0;34m\u001b[0m\u001b[0m\n\u001b[1;32m    576\u001b[0m             \u001b[0;32mtry\u001b[0m\u001b[0;34m:\u001b[0m\u001b[0;34m\u001b[0m\u001b[0m\n\u001b[0;32m--> 577\u001b[0;31m                 \u001b[0mkev_list\u001b[0m \u001b[0;34m=\u001b[0m \u001b[0mself\u001b[0m\u001b[0;34m.\u001b[0m\u001b[0m_kqueue\u001b[0m\u001b[0;34m.\u001b[0m\u001b[0mcontrol\u001b[0m\u001b[0;34m(\u001b[0m\u001b[0;32mNone\u001b[0m\u001b[0;34m,\u001b[0m \u001b[0mmax_ev\u001b[0m\u001b[0;34m,\u001b[0m \u001b[0mtimeout\u001b[0m\u001b[0;34m)\u001b[0m\u001b[0;34m\u001b[0m\u001b[0m\n\u001b[0m\u001b[1;32m    578\u001b[0m             \u001b[0;32mexcept\u001b[0m \u001b[0mInterruptedError\u001b[0m\u001b[0;34m:\u001b[0m\u001b[0;34m\u001b[0m\u001b[0m\n\u001b[1;32m    579\u001b[0m                 \u001b[0;32mreturn\u001b[0m \u001b[0mready\u001b[0m\u001b[0;34m\u001b[0m\u001b[0m\n",
      "\u001b[0;31mKeyboardInterrupt\u001b[0m: "
     ]
    }
   ],
   "source": [
    "import asyncio\n",
    "\n",
    "loop = asyncio.get_event_loop()\n",
    "loop.run_forever()"
   ]
  },
  {
   "cell_type": "markdown",
   "metadata": {},
   "source": [
    "<div style=\"float:left;margin:0 10px 10px 0\" markdown=\"1\">![title](img/loop.jpg)</div>"
   ]
  },
  {
   "cell_type": "code",
   "execution_count": 92,
   "metadata": {},
   "outputs": [
    {
     "name": "stdout",
     "output_type": "stream",
     "text": [
      "start event loop\n",
      "callback called\n"
     ]
    }
   ],
   "source": [
    "import asyncio\n",
    "\n",
    "def cb():\n",
    "    print(\"callback called\")\n",
    "    loop.stop()\n",
    "\n",
    "loop = asyncio.get_event_loop()\n",
    "loop.call_later(delay=3, callback=cb)\n",
    "print(\"start event loop\")\n",
    "loop.run_forever()"
   ]
  },
  {
   "cell_type": "markdown",
   "metadata": {},
   "source": [
    "В Python 3.4 вызов результата корутины выполнялся с помощью конструкции **yield from** (https://www.python.org/dev/peps/pep-0380/), а функции-корутины помечались декоратором **@asyncio.coroutine**"
   ]
  },
  {
   "cell_type": "code",
   "execution_count": 93,
   "metadata": {},
   "outputs": [
    {
     "name": "stdout",
     "output_type": "stream",
     "text": [
      "start event loop\n",
      "return called\n"
     ]
    }
   ],
   "source": [
    "import asyncio\n",
    "\n",
    "@asyncio.coroutine\n",
    "def return_after_delay():\n",
    "    yield from asyncio.sleep(3)\n",
    "    print(\"return called\")\n",
    "\n",
    "loop = asyncio.get_event_loop()\n",
    "print(\"start event loop\")\n",
    "loop.run_until_complete(return_after_delay())"
   ]
  },
  {
   "cell_type": "markdown",
   "metadata": {},
   "source": [
    "В версии 3.5 появились специальные ключевые слова, позволяющие программировать в асинхронном стиле: **async** и **await**\n",
    "\n",
    "**async** - ключевое слово, позволяющее обозначить функцию как асинхронную (корутина, coroutine). Такая функция может прервать свое выполнение в определенной точке (на блокирующей операции), а затем, дождавшись результата этой операции, продолжить свое выполнение.\n",
    "\n",
    "**await** позволяет запустить такую функцию и дождаться результата."
   ]
  },
  {
   "cell_type": "code",
   "execution_count": 95,
   "metadata": {},
   "outputs": [
    {
     "name": "stdout",
     "output_type": "stream",
     "text": [
      "start event loop\n",
      "return called\n"
     ]
    }
   ],
   "source": [
    "import asyncio\n",
    "\n",
    "async def return_after_delay():\n",
    "    await asyncio.sleep(3)\n",
    "    print(\"return called\")\n",
    "\n",
    "loop = asyncio.get_event_loop()\n",
    "print(\"start event loop\")\n",
    "loop.run_until_complete(return_after_delay())"
   ]
  },
  {
   "cell_type": "markdown",
   "metadata": {},
   "source": [
    "**Чтобы программа стала работать асинхронно нужно использовать примитивы, которые есть в библиотеке asyncio:**"
   ]
  },
  {
   "cell_type": "code",
   "execution_count": 103,
   "metadata": {},
   "outputs": [
    {
     "name": "stdout",
     "output_type": "stream",
     "text": [
      "Sending request 2\n",
      "Sending request 3\n",
      "Sending request 1\n",
      "Sending request 5\n",
      "Sending request 4\n",
      "Got response from request 2: boom\n",
      "Got response from request 3: boom\n",
      "Got response from request 1: boom\n",
      "Got response from request 5: boom\n",
      "Got response from request 4: boom\n"
     ]
    },
    {
     "data": {
      "text/plain": [
       "[None, None, None, None, None]"
      ]
     },
     "execution_count": 103,
     "metadata": {},
     "output_type": "execute_result"
    }
   ],
   "source": [
    "import asyncio\n",
    "\n",
    "async def get_data():\n",
    "    await asyncio.sleep(1)\n",
    "    return \"boom\"\n",
    "\n",
    "async def request(i):\n",
    "    print(f\"Sending request {i+1}\")\n",
    "    data = await get_data()\n",
    "    print(f\"Got response from request {i+1}: {data}\")\n",
    "\n",
    "loop = asyncio.get_event_loop()\n",
    "loop.run_until_complete(asyncio.gather(*[request(i) for i in range(5)]))"
   ]
  },
  {
   "cell_type": "markdown",
   "metadata": {},
   "source": [
    "Исключения при работе с корутинами работают точно так же как и в синхронном коде:"
   ]
  },
  {
   "cell_type": "code",
   "execution_count": 104,
   "metadata": {
    "scrolled": true
   },
   "outputs": [
    {
     "name": "stdout",
     "output_type": "stream",
     "text": [
      "Sending request 1\n",
      "Sending request 3\n",
      "Sending request 4\n",
      "Sending request 0\n",
      "Sending request 2\n",
      "Error in request 1\n",
      "Error in request 3\n",
      "Error in request 4\n",
      "Error in request 0\n",
      "Error in request 2\n"
     ]
    },
    {
     "data": {
      "text/plain": [
       "[None, None, None, None, None]"
      ]
     },
     "execution_count": 104,
     "metadata": {},
     "output_type": "execute_result"
    }
   ],
   "source": [
    "import asyncio\n",
    "\n",
    "async def get_data():\n",
    "    await asyncio.sleep(1)\n",
    "    raise ValueError\n",
    "\n",
    "async def request(i):\n",
    "    print(\"Sending request %d\" % i)\n",
    "    try:\n",
    "        data = await get_data()\n",
    "    except ValueError:\n",
    "        print(\"Error in request %d\" % i)\n",
    "    else:\n",
    "        print(\"Got response from request %d\" % i)\n",
    "\n",
    "loop = asyncio.get_event_loop()\n",
    "loop.run_until_complete(asyncio.gather(*[request(i) for i in range(5)]))"
   ]
  },
  {
   "cell_type": "markdown",
   "metadata": {},
   "source": [
    "Примеры других реализаций Event Loop'ов:\n",
    "\n",
    "* Tornado IOLoop (https://github.com/tornadoweb/tornado)\n",
    "* Twisted reactor (https://twistedmatrix.com/trac/)\n",
    "* pyuv (https://github.com/saghul/pyuv)\n",
    "* PyGame (http://pygame.org/hifi.html)\n",
    "* ..."
   ]
  },
  {
   "cell_type": "markdown",
   "metadata": {},
   "source": [
    "Мы еще вернемся к asyncio в лекции про интернет и клиент-серверные приложения. В том числе подробно посмотрим на сетевые операции - неблокирующее чтение и запись в сокеты.\n",
    "\n",
    "Список библиотек, написанных поверх asyncio - https://github.com/python/asyncio/wiki/ThirdParty\n",
    "\n",
    "А пока **вернемся к нашему примеру** и перепишем его, используя асинхронный подход и asyncio в частности."
   ]
  },
  {
   "cell_type": "code",
   "execution_count": 122,
   "metadata": {},
   "outputs": [
    {
     "name": "stdout",
     "output_type": "stream",
     "text": [
      "1 loop, best of 3: 192 ms per loop\n"
     ]
    }
   ],
   "source": [
    "import aiohttp\n",
    "import asyncio\n",
    "\n",
    "STEPS = 100\n",
    "\n",
    "async def download(loop):\n",
    "    async with aiohttp.ClientSession(loop=loop) as session:\n",
    "        async with session.get(\"http://127.0.0.1:8000\") as response:\n",
    "            return await response.text()\n",
    "\n",
    "async def worker(steps, loop):\n",
    "    await asyncio.gather(*[download(loop) for x in range(steps)])\n",
    "\n",
    "loop = asyncio.get_event_loop()\n",
    "%timeit -n1 loop.run_until_complete(worker(STEPS, loop))"
   ]
  },
  {
   "cell_type": "markdown",
   "metadata": {
    "collapsed": true
   },
   "source": [
    "![title](img/g5.png)"
   ]
  },
  {
   "cell_type": "code",
   "execution_count": 119,
   "metadata": {},
   "outputs": [
    {
     "name": "stdout",
     "output_type": "stream",
     "text": [
      "Future is done!\n"
     ]
    }
   ],
   "source": [
    "# future example.\n",
    "import asyncio\n",
    "\n",
    "async def slow_operation(future):\n",
    "    try:\n",
    "        await asyncio.wait_for(asyncio.sleep(1), 2) \n",
    "    except asyncio.TimeoutError:\n",
    "        future.set_exception(ValueError(\"Error sleeping\"))\n",
    "    else:\n",
    "        future.set_result('Future is done!')\n",
    "\n",
    "def got_result(future):\n",
    "    if future.exception():\n",
    "        print(\"Exception:\", type(future.exception()))\n",
    "    else:\n",
    "        print(future.result())\n",
    "    loop.stop()\n",
    "\n",
    "loop = asyncio.get_event_loop()\n",
    "\n",
    "future = asyncio.Future()\n",
    "future.add_done_callback(got_result)\n",
    "\n",
    "asyncio.ensure_future(slow_operation(future))\n",
    "\n",
    "loop.run_forever()"
   ]
  },
  {
   "cell_type": "code",
   "execution_count": 121,
   "metadata": {},
   "outputs": [
    {
     "name": "stdout",
     "output_type": "stream",
     "text": [
      "Hello, world!\n",
      "\n",
      "Request method is \"GET\"\n",
      "RequestURI is \"/\"\n",
      "Requested path is \"/\"\n",
      "Host is \"127.0.0.1:8000\"\n",
      "Query string is \"\"\n",
      "User-Agent is \"python-requests/2.11.1\"\n",
      "Connection has been established at 2017-03-23 09:13:47 +0300 MSK\n",
      "Request has been started at 2017-03-23 09:13:47 +0300 MSK\n",
      "Serial request number for the current connection is 1\n",
      "Your ip is \"127.0.0.1\"\n",
      "\n",
      "\n",
      "Hello, world!\n",
      "\n",
      "Request method is \"GET\"\n",
      "RequestURI is \"/\"\n",
      "Requested path is \"/\"\n",
      "Host is \"127.0.0.1:8000\"\n",
      "Query string is \"\"\n",
      "User-Agent is \"python-requests/2.11.1\"\n",
      "Connection has been established at 2017-03-23 09:13:47 +0300 MSK\n",
      "Request has been started at 2017-03-23 09:13:47 +0300 MSK\n",
      "Serial request number for the current connection is 1\n",
      "Your ip is \"127.0.0.1\"\n",
      "\n",
      "\n"
     ]
    }
   ],
   "source": [
    "# выносим блокирующие вызовы в пул тредов\n",
    "import asyncio\n",
    "import requests\n",
    "\n",
    "async def main():\n",
    "    loop = asyncio.get_event_loop()\n",
    "    future1 = loop.run_in_executor(None, requests.get, 'http://127.0.0.1:8000')\n",
    "    future2 = loop.run_in_executor(None, requests.get, 'http://127.0.0.1:8000')\n",
    "    response1 = await future1\n",
    "    response2 = await future2\n",
    "    print(response1.text)\n",
    "    print(response2.text)\n",
    "\n",
    "loop = asyncio.get_event_loop()\n",
    "loop.run_until_complete(main())"
   ]
  },
  {
   "cell_type": "markdown",
   "metadata": {},
   "source": [
    "# Завершающий пример (asyncio + multiprocessing)"
   ]
  },
  {
   "cell_type": "code",
   "execution_count": 130,
   "metadata": {},
   "outputs": [
    {
     "name": "stdout",
     "output_type": "stream",
     "text": [
      "1 loop, best of 3: 166 ms per loop\n"
     ]
    }
   ],
   "source": [
    "# asyncio + multiprocessing\n",
    "import aiohttp\n",
    "import asyncio\n",
    "import multiprocessing\n",
    "\n",
    "NUM_PROCESSES = 2\n",
    "\n",
    "STEPS = 100\n",
    "\n",
    "async def download(loop):\n",
    "    async with aiohttp.ClientSession(loop=loop) as session:\n",
    "        async with session.get(\"http://127.0.0.1:8000\") as response:\n",
    "            return await response.text()\n",
    "\n",
    "async def worker(steps, loop):\n",
    "    await asyncio.gather(*[download(loop) for x in range(steps)], loop=loop)\n",
    "\n",
    "def run(steps):\n",
    "    loop = asyncio.new_event_loop()\n",
    "    loop.run_until_complete(worker(steps, loop))\n",
    "\n",
    "def run_in_processes():    \n",
    "    processes = []\n",
    "\n",
    "    for i in range(NUM_PROCESSES):\n",
    "        p = multiprocessing.Process(target=run, args=(STEPS//NUM_PROCESSES,))\n",
    "        processes.append(p)\n",
    "        p.start()\n",
    "\n",
    "    for p in processes:\n",
    "        p.join()\n",
    "\n",
    "%timeit -n1 run_in_processes()"
   ]
  },
  {
   "cell_type": "markdown",
   "metadata": {
    "collapsed": true
   },
   "source": [
    "# Subprocess. Если останется время..."
   ]
  },
  {
   "cell_type": "code",
   "execution_count": 14,
   "metadata": {},
   "outputs": [
    {
     "name": "stdout",
     "output_type": "stream",
     "text": [
      "b'total 20104\\n-rw-r--r--  1 fz  staff        0 Sep 24 12:53 README.md\\n-rw-r--r--  1 fz  staff      602 Oct 16 23:31 debugging.py\\ndrwxr-xr-x  8 fz  staff      272 Oct 16 10:46 img\\n-rw-r--r--  1 fz  staff    51100 Oct 17 09:50 notebook.ipynb\\n-rwxr-xr-x  1 fz  staff  9243740 Oct 15 15:00 server\\n-rw-r--r--  1 fz  staff     1161 Oct 15 15:00 server.go\\n-rw-------@ 1 fz  staff   983707 Oct 16 21:08 slides.pdf\\n'\n"
     ]
    }
   ],
   "source": [
    "import subprocess\n",
    "import os\n",
    "\n",
    "result = subprocess.run([\"ls\", \"-l\", os.getcwd()], stdout=subprocess.PIPE)\n",
    "print(result.stdout)"
   ]
  },
  {
   "cell_type": "code",
   "execution_count": 15,
   "metadata": {},
   "outputs": [
    {
     "name": "stdout",
     "output_type": "stream",
     "text": [
      "b'-rw-r--r--  1 fz  staff      602 Oct 16 23:31 debugging.py\\n'\n"
     ]
    }
   ],
   "source": [
    "# используя shell\n",
    "result = subprocess.run(\n",
    "    \"ls -l \" + os.getcwd() + \"|grep debug\",\n",
    "    stdout=subprocess.PIPE, stderr=subprocess.PIPE, shell=True\n",
    ")\n",
    "print(result.stdout)"
   ]
  },
  {
   "cell_type": "code",
   "execution_count": null,
   "metadata": {
    "collapsed": true
   },
   "outputs": [],
   "source": []
  }
 ],
 "metadata": {
  "kernelspec": {
   "display_name": "Python 3",
   "language": "python",
   "name": "python3"
  },
  "language_info": {
   "codemirror_mode": {
    "name": "ipython",
    "version": 3
   },
   "file_extension": ".py",
   "mimetype": "text/x-python",
   "name": "python",
   "nbconvert_exporter": "python",
   "pygments_lexer": "ipython3",
   "version": "3.6.3"
  }
 },
 "nbformat": 4,
 "nbformat_minor": 1
}
